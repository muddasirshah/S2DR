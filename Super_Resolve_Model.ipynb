{
  "nbformat": 4,
  "nbformat_minor": 0,
  "metadata": {
    "colab": {
      "provenance": []
    },
    "kernelspec": {
      "name": "python3",
      "display_name": "Python 3"
    },
    "language_info": {
      "name": "python"
    }
  },
  "cells": [
    {
      "cell_type": "code",
      "source": [
        "!pip install google-cloud-storage rasterio numpy pillow tqdm --quiet\n",
        "!pip install torch torchvision scikit-image --quiet"
      ],
      "metadata": {
        "id": "71WG4yRy1QYy"
      },
      "execution_count": null,
      "outputs": []
    },
    {
      "cell_type": "code",
      "execution_count": null,
      "metadata": {
        "id": "VzhzxxJp1Ea7"
      },
      "outputs": [],
      "source": [
        "# Download Files from GCP\n",
        "import os\n",
        "from google.cloud import storage\n",
        "import zipfile\n",
        "from tqdm import tqdm\n",
        "from google.colab import auth\n",
        "\n",
        "# Step 1: Re-authenticate with Google Cloud\n",
        "print(\"Authenticating with Google Cloud...\")\n",
        "auth.authenticate_user()\n",
        "\n",
        "# Step 2: Initialize GCS client\n",
        "try:\n",
        "    client = storage.Client(project='YOUR_GCP_PROJECT_NAME')\n",
        "    bucket_name = 'YOUR_GCP_BUCKET_NAME'\n",
        "    bucket = client.get_bucket(bucket_name)\n",
        "    print(f\"Successfully connected to bucket: {bucket_name}\")\n",
        "except Exception as e:\n",
        "    print(f\"Error connecting to GCS: {e}\")\n",
        "    raise\n",
        "\n",
        "# Step 3: Define paths\n",
        "gcs_zip_path = 'SR/compressed/compressed.zip'  # Path to zip file in GCS\n",
        "local_zip_path = '/content/compressed.zip'  # Local path for downloaded zip\n",
        "extract_folder = '/content/extracted_data'  # Folder to extract the zip contents\n",
        "\n",
        "# Step 4: Download zip file from GCS\n",
        "try:\n",
        "    blob = bucket.blob(gcs_zip_path)\n",
        "    os.makedirs(os.path.dirname(local_zip_path), exist_ok=True)\n",
        "    blob.download_to_filename(local_zip_path)\n",
        "    print(f\"Downloaded gs://{bucket_name}/{gcs_zip_path} to {local_zip_path}\")\n",
        "except Exception as e:\n",
        "    print(f\"Error downloading zip file: {e}\")\n",
        "    raise\n",
        "\n",
        "# Step 5: Extract zip file\n",
        "try:\n",
        "    os.makedirs(extract_folder, exist_ok=True)\n",
        "    with zipfile.ZipFile(local_zip_path, 'r') as zip_ref:\n",
        "        zip_files = zip_ref.namelist()\n",
        "        for file in tqdm(zip_files, desc=\"Extracting files\"):\n",
        "            zip_ref.extract(file, extract_folder)\n",
        "    print(f\"Extracted zip file to {extract_folder}\")\n",
        "except Exception as e:\n",
        "    print(f\"Error extracting zip file: {e}\")\n",
        "    raise\n",
        "\n",
        "# Step 6: Clean up local zip file\n",
        "try:\n",
        "    os.remove(local_zip_path)\n",
        "    print(\"Removed local zip file\")\n",
        "except Exception as e:\n",
        "    print(f\"Error removing local zip file: {e}\")"
      ]
    },
    {
      "cell_type": "code",
      "source": [
        "import os\n",
        "import glob\n",
        "import torch\n",
        "import torch.nn as nn\n",
        "import torch.nn.functional as F\n",
        "from torch.utils.data import DataLoader, Dataset\n",
        "from torchvision.models import vgg19\n",
        "from torch.cuda.amp import GradScaler, autocast\n",
        "from sklearn.model_selection import train_test_split\n",
        "from skimage.metrics import peak_signal_noise_ratio, structural_similarity\n",
        "from tqdm import tqdm\n",
        "import torchvision.transforms as transforms\n",
        "import rasterio\n",
        "import numpy as np\n",
        "import matplotlib.pyplot as plt\n",
        "import logging\n",
        "\n",
        "# Logging setup\n",
        "logging.basicConfig(level=logging.INFO, format=\"%(message)s\")\n",
        "logger = logging.getLogger()\n",
        "\n",
        "# Check device\n",
        "device = torch.device(\"cuda\" if torch.cuda.is_available() else \"cpu\")\n",
        "logger.info(f\"Using device: {device}\")"
      ],
      "metadata": {
        "id": "vS7h6i8L1V4Z"
      },
      "execution_count": null,
      "outputs": []
    },
    {
      "cell_type": "code",
      "source": [
        "# For Model Acehitecture Please Drop an email muddasirshah@outlook.com"
      ],
      "metadata": {
        "id": "QJE4FbaT1obX"
      },
      "execution_count": null,
      "outputs": []
    }
  ]
}